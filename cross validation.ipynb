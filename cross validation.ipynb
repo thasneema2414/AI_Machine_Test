{
 "cells": [
  {
   "cell_type": "code",
   "execution_count": 45,
   "metadata": {},
   "outputs": [],
   "source": [
    "import pandas as pd\n",
    "import numpy as np\n",
    "from sklearn.preprocessing import LabelEncoder, StandardScaler\n",
    "from sklearn.model_selection import KFold,train_test_split,cross_val_score\n",
    "from sklearn.linear_model import LogisticRegression\n",
    "from sklearn.svm import SVC\n",
    "from sklearn.tree import DecisionTreeClassifier\n",
    "from sklearn.ensemble import RandomForestClassifier\n",
    "from sklearn.metrics import accuracy_score"
   ]
  },
  {
   "cell_type": "code",
   "execution_count": 28,
   "metadata": {},
   "outputs": [],
   "source": [
    "data = pd.read_csv(r\"diabetes.csv\")"
   ]
  },
  {
   "cell_type": "code",
   "execution_count": 29,
   "metadata": {},
   "outputs": [],
   "source": [
    "#EDA"
   ]
  },
  {
   "cell_type": "code",
   "execution_count": 30,
   "metadata": {},
   "outputs": [
    {
     "data": {
      "text/plain": [
       "Index(['Pregnancies', 'Glucose', 'BloodPressure', 'SkinThickness', 'Insulin',\n",
       "       'BMI', 'DiabetesPedigreeFunction', 'Age', 'Outcome'],\n",
       "      dtype='object')"
      ]
     },
     "execution_count": 30,
     "metadata": {},
     "output_type": "execute_result"
    }
   ],
   "source": [
    "data.columns"
   ]
  },
  {
   "cell_type": "code",
   "execution_count": 31,
   "metadata": {},
   "outputs": [],
   "source": [
    "#data.drop(['PassengerId','Name','Ticket','Cabin'],axis=1,inplace=True)"
   ]
  },
  {
   "cell_type": "code",
   "execution_count": 32,
   "metadata": {},
   "outputs": [],
   "source": [
    "#data = data.ffill()"
   ]
  },
  {
   "cell_type": "code",
   "execution_count": 33,
   "metadata": {},
   "outputs": [
    {
     "data": {
      "text/plain": [
       "Pregnancies                   int64\n",
       "Glucose                       int64\n",
       "BloodPressure                 int64\n",
       "SkinThickness                 int64\n",
       "Insulin                       int64\n",
       "BMI                         float64\n",
       "DiabetesPedigreeFunction    float64\n",
       "Age                           int64\n",
       "Outcome                       int64\n",
       "dtype: object"
      ]
     },
     "execution_count": 33,
     "metadata": {},
     "output_type": "execute_result"
    }
   ],
   "source": [
    "data.dtypes"
   ]
  },
  {
   "cell_type": "code",
   "execution_count": 34,
   "metadata": {},
   "outputs": [],
   "source": [
    "#le = LabelEncoder()\n",
    "#data[['Sex','Embarked']] = data[['Sex','Embarked']].apply(le.fit_transform)"
   ]
  },
  {
   "cell_type": "code",
   "execution_count": 35,
   "metadata": {},
   "outputs": [],
   "source": [
    "x = data.drop('Outcome',axis=1)\n",
    "X = StandardScaler().fit_transform(x)\n",
    "y = data.Outcome"
   ]
  },
  {
   "cell_type": "code",
   "execution_count": 36,
   "metadata": {},
   "outputs": [],
   "source": [
    "kf = KFold(n_splits=20)     #5 fold cross validation"
   ]
  },
  {
   "cell_type": "code",
   "execution_count": 37,
   "metadata": {},
   "outputs": [],
   "source": [
    "s_model = SVC()"
   ]
  },
  {
   "cell_type": "code",
   "execution_count": 38,
   "metadata": {},
   "outputs": [],
   "source": [
    "D_model = DecisionTreeClassifier()"
   ]
  },
  {
   "cell_type": "code",
   "execution_count": 39,
   "metadata": {},
   "outputs": [],
   "source": [
    "R_model = RandomForestClassifier(n_estimators=500)"
   ]
  },
  {
   "cell_type": "code",
   "execution_count": 40,
   "metadata": {},
   "outputs": [],
   "source": [
    "#5 fold validation of svm"
   ]
  },
  {
   "cell_type": "code",
   "execution_count": 41,
   "metadata": {},
   "outputs": [
    {
     "name": "stdout",
     "output_type": "stream",
     "text": [
      "[0.6923076923076923, 0.717948717948718, 0.7948717948717948, 0.7948717948717948, 0.7435897435897436, 0.6666666666666666, 0.7435897435897436, 0.6153846153846154, 0.6842105263157895, 0.8421052631578947, 0.8157894736842105, 0.868421052631579, 0.6842105263157895, 0.8947368421052632, 0.7631578947368421, 0.9210526315789473, 0.7631578947368421, 0.7631578947368421, 0.7894736842105263, 0.7368421052631579]\n",
      "mean:  0.7647773279352226\n"
     ]
    }
   ],
   "source": [
    "li_s = []\n",
    "for train_index,test_index in kf.split(x,y):\n",
    "    xtrain,xtest,ytrain,ytest = x.loc[train_index],x.loc[test_index],y.loc[train_index],y.loc[test_index]\n",
    "    s_model.fit(xtrain,ytrain)\n",
    "    li_s.append(s_model.score(xtest,ytest))\n",
    "    \n",
    "print(li_s)\n",
    "print(\"mean: \",sum(li_s)/len(li_s))\n"
   ]
  },
  {
   "cell_type": "code",
   "execution_count": 42,
   "metadata": {},
   "outputs": [
    {
     "name": "stdout",
     "output_type": "stream",
     "text": [
      "[0.6410256410256411, 0.5897435897435898, 0.7435897435897436, 0.6666666666666666, 0.6923076923076923, 0.5641025641025641, 0.6153846153846154, 0.5641025641025641, 0.7105263157894737, 0.7105263157894737, 0.7368421052631579, 0.7368421052631579, 0.7631578947368421, 0.7894736842105263, 0.7631578947368421, 0.7631578947368421, 0.7631578947368421, 0.5526315789473685, 0.7368421052631579, 0.6578947368421053]\n",
      "mean :  0.6880566801619432\n"
     ]
    }
   ],
   "source": [
    "li_D = []\n",
    "for train_index,test_index in kf.split(x,y):\n",
    "    x_train,x_test,y_train,y_test = x.loc[train_index],x.loc[test_index],y.loc[train_index],y.loc[test_index]\n",
    "    D_model.fit(x_train,y_train)\n",
    "    li_D.append(D_model.score(x_test,y_test))\n",
    "    \n",
    "print(li_D)\n",
    "print(\"mean : \",sum(li_D)/len(li_D))"
   ]
  },
  {
   "cell_type": "code",
   "execution_count": 43,
   "metadata": {},
   "outputs": [
    {
     "name": "stdout",
     "output_type": "stream",
     "text": [
      "[0.6923076923076923, 0.6923076923076923, 0.8461538461538461, 0.7948717948717948, 0.7692307692307693, 0.6666666666666666, 0.6666666666666666, 0.5897435897435898, 0.7105263157894737, 0.8421052631578947, 0.868421052631579, 0.8157894736842105, 0.7105263157894737, 0.9210526315789473, 0.7894736842105263, 0.9210526315789473, 0.7631578947368421, 0.6842105263157895, 0.7894736842105263, 0.7894736842105263]\n",
      "mean:  0.7661605937921727\n"
     ]
    }
   ],
   "source": [
    "li_s = []\n",
    "for train_index,test_index in kf.split(x,y):\n",
    "    xtrain,xtest,ytrain,ytest = x.loc[train_index],x.loc[test_index],y.loc[train_index],y.loc[test_index]\n",
    "    R_model.fit(xtrain,ytrain)\n",
    "    li_s.append(R_model.score(xtest,ytest))\n",
    "    \n",
    "print(li_s)\n",
    "print(\"mean: \",sum(li_s)/len(li_s))"
   ]
  },
  {
   "cell_type": "code",
   "execution_count": 44,
   "metadata": {},
   "outputs": [
    {
     "name": "stdout",
     "output_type": "stream",
     "text": [
      "[0.6923076923076923, 0.717948717948718, 0.7948717948717948, 0.7948717948717948, 0.7435897435897436, 0.6666666666666666, 0.7435897435897436, 0.6153846153846154, 0.6842105263157895, 0.8421052631578947, 0.8157894736842105, 0.868421052631579, 0.6842105263157895, 0.8947368421052632, 0.7631578947368421, 0.9210526315789473, 0.7631578947368421, 0.7631578947368421, 0.7894736842105263, 0.7368421052631579]\n",
      "mean :  svm 0.9210526315789473\n",
      "[0.6666666666666666, 0.6666666666666666, 0.7948717948717948, 0.6666666666666666, 0.6923076923076923, 0.5128205128205128, 0.6410256410256411, 0.5641025641025641, 0.7105263157894737, 0.7105263157894737, 0.7368421052631579, 0.7631578947368421, 0.7105263157894737, 0.7631578947368421, 0.6842105263157895, 0.7894736842105263, 0.7631578947368421, 0.6052631578947368, 0.7631578947368421, 0.6578947368421053]\n",
      "mean :  DecisionTree 0.7948717948717948\n",
      "[0.6923076923076923, 0.6923076923076923, 0.8717948717948718, 0.7948717948717948, 0.7692307692307693, 0.6923076923076923, 0.6410256410256411, 0.5897435897435898, 0.6842105263157895, 0.868421052631579, 0.8421052631578947, 0.8421052631578947, 0.7105263157894737, 0.9210526315789473, 0.7894736842105263, 0.9210526315789473, 0.7894736842105263, 0.6578947368421053, 0.7631578947368421, 0.7631578947368421]\n",
      "mean :  Randomforest 0.9210526315789473\n"
     ]
    }
   ],
   "source": [
    "models = [s_model,D_model,R_model]\n",
    "names = ['svm','DecisionTree','Randomforest']\n",
    "for i in range(len(models)):\n",
    "    li = []\n",
    "    for train_index,test_index in kf.split(x,y):\n",
    "        x_train,x_test,y_train,y_test = x.loc[train_index],x.loc[test_index],y.loc[train_index],y.loc[test_index]\n",
    "        models[i].fit(x_train,y_train)\n",
    "        li.append(models[i].score(x_test,y_test))\n",
    "        \n",
    "    print(li)\n",
    "    #print(\"mean : \",names[i],sum(li)/len(li))\n",
    "    print(\"mean : \",names[i],max(li))"
   ]
  },
  {
   "cell_type": "markdown",
   "metadata": {},
   "source": [
    "Random forest gives 92% accuracy for 12 fold cross validation."
   ]
  },
  {
   "cell_type": "code",
   "execution_count": null,
   "metadata": {},
   "outputs": [],
   "source": []
  }
 ],
 "metadata": {
  "kernelspec": {
   "display_name": "Python 3",
   "language": "python",
   "name": "python3"
  },
  "language_info": {
   "codemirror_mode": {
    "name": "ipython",
    "version": 3
   },
   "file_extension": ".py",
   "mimetype": "text/x-python",
   "name": "python",
   "nbconvert_exporter": "python",
   "pygments_lexer": "ipython3",
   "version": "3.8.3"
  }
 },
 "nbformat": 4,
 "nbformat_minor": 4
}
