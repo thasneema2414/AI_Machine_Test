{
 "cells": [
  {
   "cell_type": "code",
   "execution_count": 1,
   "metadata": {},
   "outputs": [],
   "source": [
    "import pandas as pd\n",
    "import numpy as np\n",
    "from sklearn.preprocessing import LabelEncoder, StandardScaler\n",
    "from sklearn.model_selection import KFold,train_test_split,cross_val_score\n",
    "from sklearn.svm import SVC\n",
    "from sklearn.tree import DecisionTreeClassifier\n",
    "from sklearn.ensemble import RandomForestClassifier\n",
    "from sklearn.metrics import accuracy_score"
   ]
  },
  {
   "cell_type": "code",
   "execution_count": 2,
   "metadata": {},
   "outputs": [],
   "source": [
    "data = pd.read_csv(r\"diabetes.csv\")"
   ]
  },
  {
   "cell_type": "code",
   "execution_count": 3,
   "metadata": {},
   "outputs": [],
   "source": [
    "#EDA"
   ]
  },
  {
   "cell_type": "code",
   "execution_count": 4,
   "metadata": {},
   "outputs": [
    {
     "data": {
      "text/plain": [
       "Index(['Pregnancies', 'Glucose', 'BloodPressure', 'SkinThickness', 'Insulin',\n",
       "       'BMI', 'DiabetesPedigreeFunction', 'Age', 'Outcome'],\n",
       "      dtype='object')"
      ]
     },
     "execution_count": 4,
     "metadata": {},
     "output_type": "execute_result"
    }
   ],
   "source": [
    "data.columns"
   ]
  },
  {
   "cell_type": "code",
   "execution_count": 5,
   "metadata": {},
   "outputs": [],
   "source": [
    "#data.drop(['PassengerId','Name','Ticket','Cabin'],axis=1,inplace=True)"
   ]
  },
  {
   "cell_type": "code",
   "execution_count": 6,
   "metadata": {},
   "outputs": [],
   "source": [
    "#data = data.ffill()"
   ]
  },
  {
   "cell_type": "code",
   "execution_count": 7,
   "metadata": {},
   "outputs": [
    {
     "data": {
      "text/plain": [
       "Pregnancies                   int64\n",
       "Glucose                       int64\n",
       "BloodPressure                 int64\n",
       "SkinThickness                 int64\n",
       "Insulin                       int64\n",
       "BMI                         float64\n",
       "DiabetesPedigreeFunction    float64\n",
       "Age                           int64\n",
       "Outcome                       int64\n",
       "dtype: object"
      ]
     },
     "execution_count": 7,
     "metadata": {},
     "output_type": "execute_result"
    }
   ],
   "source": [
    "data.dtypes"
   ]
  },
  {
   "cell_type": "code",
   "execution_count": 8,
   "metadata": {},
   "outputs": [],
   "source": [
    "#le = LabelEncoder()\n",
    "#data[['Sex','Embarked']] = data[['Sex','Embarked']].apply(le.fit_transform)"
   ]
  },
  {
   "cell_type": "code",
   "execution_count": 16,
   "metadata": {},
   "outputs": [],
   "source": [
    "x = data.drop('Outcome',axis=1)\n",
    "X = StandardScaler().fit_transform(x)\n",
    "y = data.Outcome"
   ]
  },
  {
   "cell_type": "code",
   "execution_count": 17,
   "metadata": {},
   "outputs": [],
   "source": [
    "kf = KFold(n_splits=12)     #5 fold cross validation"
   ]
  },
  {
   "cell_type": "code",
   "execution_count": 18,
   "metadata": {},
   "outputs": [],
   "source": [
    "s_model = SVC()"
   ]
  },
  {
   "cell_type": "code",
   "execution_count": 19,
   "metadata": {},
   "outputs": [],
   "source": [
    "D_model = DecisionTreeClassifier()"
   ]
  },
  {
   "cell_type": "code",
   "execution_count": 20,
   "metadata": {},
   "outputs": [],
   "source": [
    "R_model = RandomForestClassifier(n_estimators=500)"
   ]
  },
  {
   "cell_type": "code",
   "execution_count": 21,
   "metadata": {},
   "outputs": [],
   "source": [
    "#5 fold validation of svm"
   ]
  },
  {
   "cell_type": "code",
   "execution_count": 22,
   "metadata": {},
   "outputs": [
    {
     "name": "stdout",
     "output_type": "stream",
     "text": [
      "[0.6875, 0.78125, 0.75, 0.703125, 0.65625, 0.78125, 0.8125, 0.734375, 0.84375, 0.84375, 0.765625, 0.75]\n",
      "mean:  0.7591145833333334\n"
     ]
    }
   ],
   "source": [
    "li_s = []\n",
    "for train_index,test_index in kf.split(x,y):\n",
    "    xtrain,xtest,ytrain,ytest = x.loc[train_index],x.loc[test_index],y.loc[train_index],y.loc[test_index]\n",
    "    s_model.fit(xtrain,ytrain)\n",
    "    li_s.append(s_model.score(xtest,ytest))\n",
    "    \n",
    "print(li_s)\n",
    "print(\"mean: \",sum(li_s)/len(li_s))\n"
   ]
  },
  {
   "cell_type": "code",
   "execution_count": 23,
   "metadata": {},
   "outputs": [
    {
     "name": "stdout",
     "output_type": "stream",
     "text": [
      "[0.578125, 0.796875, 0.796875, 0.71875, 0.640625, 0.765625, 0.734375, 0.796875, 0.765625, 0.796875, 0.625, 0.796875]\n",
      "mean :  0.734375\n"
     ]
    }
   ],
   "source": [
    "li_D = []\n",
    "for train_index,test_index in kf.split(x,y):\n",
    "    x_train,x_test,y_train,y_test = x.loc[train_index],x.loc[test_index],y.loc[train_index],y.loc[test_index]\n",
    "    D_model.fit(x_train,y_train)\n",
    "    li_D.append(D_model.score(x_test,y_test))\n",
    "    \n",
    "print(li_D)\n",
    "print(\"mean : \",sum(li_D)/len(li_D))"
   ]
  },
  {
   "cell_type": "code",
   "execution_count": 24,
   "metadata": {},
   "outputs": [
    {
     "name": "stdout",
     "output_type": "stream",
     "text": [
      "[0.6875, 0.828125, 0.8125, 0.6875, 0.6875, 0.796875, 0.796875, 0.78125, 0.890625, 0.859375, 0.671875, 0.78125]\n",
      "mean:  0.7734375\n"
     ]
    }
   ],
   "source": [
    "li_s = []\n",
    "for train_index,test_index in kf.split(x,y):\n",
    "    xtrain,xtest,ytrain,ytest = x.loc[train_index],x.loc[test_index],y.loc[train_index],y.loc[test_index]\n",
    "    R_model.fit(xtrain,ytrain)\n",
    "    li_s.append(R_model.score(xtest,ytest))\n",
    "    \n",
    "print(li_s)\n",
    "print(\"mean: \",sum(li_s)/len(li_s))"
   ]
  },
  {
   "cell_type": "code",
   "execution_count": 25,
   "metadata": {},
   "outputs": [
    {
     "name": "stdout",
     "output_type": "stream",
     "text": [
      "[0.6875, 0.78125, 0.75, 0.703125, 0.65625, 0.78125, 0.8125, 0.734375, 0.84375, 0.84375, 0.765625, 0.75]\n",
      "mean :  svm 0.84375\n",
      "[0.609375, 0.765625, 0.734375, 0.65625, 0.65625, 0.6875, 0.703125, 0.78125, 0.75, 0.8125, 0.640625, 0.84375]\n",
      "mean :  DecisionTree 0.84375\n",
      "[0.703125, 0.828125, 0.78125, 0.671875, 0.6875, 0.796875, 0.796875, 0.796875, 0.890625, 0.859375, 0.671875, 0.765625]\n",
      "mean :  Randomforest 0.890625\n"
     ]
    }
   ],
   "source": [
    "models = [s_model,D_model,R_model]\n",
    "names = ['svm','DecisionTree','Randomforest']\n",
    "for i in range(len(models)):\n",
    "    li = []\n",
    "    for train_index,test_index in kf.split(x,y):\n",
    "        x_train,x_test,y_train,y_test = x.loc[train_index],x.loc[test_index],y.loc[train_index],y.loc[test_index]\n",
    "        models[i].fit(x_train,y_train)\n",
    "        li.append(models[i].score(x_test,y_test))\n",
    "        \n",
    "    print(li)\n",
    "    #print(\"mean : \",names[i],sum(li)/len(li))\n",
    "    print(\"mean : \",names[i],max(li))"
   ]
  },
  {
   "cell_type": "markdown",
   "metadata": {},
   "source": [
    "Random forest gives 89% accuracy for 12 fold cross validation."
   ]
  },
  {
   "cell_type": "code",
   "execution_count": null,
   "metadata": {},
   "outputs": [],
   "source": []
  }
 ],
 "metadata": {
  "kernelspec": {
   "display_name": "Python 3",
   "language": "python",
   "name": "python3"
  },
  "language_info": {
   "codemirror_mode": {
    "name": "ipython",
    "version": 3
   },
   "file_extension": ".py",
   "mimetype": "text/x-python",
   "name": "python",
   "nbconvert_exporter": "python",
   "pygments_lexer": "ipython3",
   "version": "3.8.3"
  }
 },
 "nbformat": 4,
 "nbformat_minor": 4
}
